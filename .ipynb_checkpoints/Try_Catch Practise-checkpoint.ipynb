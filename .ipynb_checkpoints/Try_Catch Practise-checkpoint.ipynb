{
 "cells": [
  {
   "cell_type": "code",
   "execution_count": null,
   "metadata": {},
   "outputs": [],
   "source": [
    "try:\n",
    "    print x #x is not defined\n",
    "except:\n",
    "    print(\"x not defined\")"
   ]
  },
  {
   "cell_type": "code",
   "execution_count": null,
   "metadata": {},
   "outputs": [],
   "source": [
    "try:\n",
    "    print x\n",
    "except NameError:\n",
    "    print (\"x is not defined to be printed\")\n",
    "except:\n",
    "    print (\"something else went wrong\")"
   ]
  },
  {
   "cell_type": "code",
   "execution_count": null,
   "metadata": {},
   "outputs": [],
   "source": [
    "try:\n",
    "    x=1\n",
    "    y=0\n",
    "    z=x/y\n",
    "except :\n",
    "    print (\"denominator cannot be zero\")\n"
   ]
  },
  {
   "cell_type": "code",
   "execution_count": null,
   "metadata": {},
   "outputs": [],
   "source": [
    "try:\n",
    "    x=1\n",
    "    y=int(input('enter a number'))\n",
    "    z=x/y\n",
    "except :\n",
    "    print (\"denominator cannot be zero\")\n",
    "else:\n",
    "    print(\"everything is fine\")"
   ]
  },
  {
   "cell_type": "code",
   "execution_count": null,
   "metadata": {},
   "outputs": [],
   "source": [
    "    x=1\n",
    "    y=0\n",
    "    z=x/y\n",
    "    print z"
   ]
  },
  {
   "cell_type": "code",
   "execution_count": null,
   "metadata": {},
   "outputs": [],
   "source": [
    "# import module sys to get the type of exception\n",
    "import sys\n",
    "\n",
    "randomList = ['a', 0, 2]\n",
    "\n",
    "for entry in randomList:\n",
    "    try:\n",
    "        print(\"The entry is\", entry)\n",
    "        r = 1/int(entry)\n",
    "        break\n",
    "    except:\n",
    "        print(\"Oops!\",sys.exc_info()[0],\"occured.\")\n",
    "        print(\"Next entry.\")\n",
    "        print()\n",
    "print(\"The reciprocal of\",entry,\"is\",r)"
   ]
  },
  {
   "cell_type": "code",
   "execution_count": null,
   "metadata": {},
   "outputs": [],
   "source": [
    "try:\n",
    "    first_name=str(raw_input(\"Enter your first name\"))\n",
    "except:\n",
    "    print(\"Name should be string\")\n",
    "    print first_name\n",
    "\n",
    "    #last_name=input(\"Enter your last name\")\n",
    "\n"
   ]
  },
  {
   "cell_type": "code",
   "execution_count": null,
   "metadata": {},
   "outputs": [],
   "source": [
    "while True:\n",
    "    try:\n",
    "        # Note: Python 2.x users should use raw_input, the equivalent of 3.x's input\n",
    "        age = int(input(\"Please enter your age: \"))\n",
    "    except ValueError:\n",
    "        print(\"Sorry, I didn't understand that.\")\n",
    "        #better try again... Return to the start of the loop\n",
    "        continue\n",
    "    else:\n",
    "        #age was successfully parsed!\n",
    "        #we're ready to exit the loop.\n",
    "        break"
   ]
  },
  {
   "cell_type": "code",
   "execution_count": 25,
   "metadata": {},
   "outputs": [
    {
     "name": "stdout",
     "output_type": "stream",
     "text": [
      "Enter the marks in Quiz 1: 19\n",
      "Enter the marks in Quiz 2: 20\n",
      "Enter the marks in Class Test: 30\n",
      "Enter the marks in Quiz 2: 50\n",
      "Enter the marks in Assigment: 100\n",
      "Enter the marks in project: 100\n",
      "69.4\n"
     ]
    }
   ],
   "source": [
    "#improvising on existing code with try except\n",
    "Q1=raw_input('Enter the marks in Quiz 1: ')\n",
    "try :\n",
    "    val=float(Q1)\n",
    "    if val>20:\n",
    "        raise Exception('maximum mark is 20')\n",
    "except ValueError:\n",
    "    print (\"The Input Should Be a Number\")\n",
    "Q2=raw_input('Enter the marks in Quiz 2: ')\n",
    "try :\n",
    "    val1=float(Q2)\n",
    "    if val1>20:\n",
    "        raise Exception('maximum mark is 20')\n",
    "except ValueError:\n",
    "    print (\"The Input Should Be a Number\")\n",
    "\n",
    "Class_Test=raw_input('Enter the marks in Class Test: ') \n",
    "Q2=raw_input('Enter the marks in Quiz 2: ')\n",
    "try :\n",
    "    val2=float(Class_Test)\n",
    "    if val2>50:\n",
    "        raise Exception('maximum mark is 50')\n",
    "except ValueError:\n",
    "    print (\"The Input Should Be a Number\")\n",
    "A=raw_input('Enter the marks in Assigment: ') \n",
    "try :\n",
    "    val3=float(A)\n",
    "    if val3>100:\n",
    "        raise Exception('maximum mark is 100')\n",
    "except ValueError:\n",
    "    print (\"The Input Should Be a Number\")\n",
    "Project=raw_input('Enter the marks in project: ')\n",
    "try :\n",
    "    val4=float(Q1)\n",
    "    if val3>200:\n",
    "        raise Exception('maximum mark is 200')\n",
    "except ValueError:\n",
    "    print (\"The Input Should Be a Number\")\n",
    "try:\n",
    "    Total_Marks=0.1*float(Q1)+0.1*float(Q2)+0.25*float(Class_Test)+0.25*float(A)+0.3*float(Project)\n",
    "    print Total_Marks\n",
    "except:\n",
    "    print(\"Inputs are invalid\")\n"
   ]
  },
  {
   "cell_type": "code",
   "execution_count": null,
   "metadata": {},
   "outputs": [],
   "source": []
  }
 ],
 "metadata": {
  "kernelspec": {
   "display_name": "Python 2",
   "language": "python",
   "name": "python2"
  }
 },
 "nbformat": 4,
 "nbformat_minor": 2
}
