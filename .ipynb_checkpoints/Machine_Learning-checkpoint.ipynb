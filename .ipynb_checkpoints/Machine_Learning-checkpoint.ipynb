{
 "cells": [
  {
   "cell_type": "code",
   "execution_count": 3,
   "metadata": {},
   "outputs": [
    {
     "name": "stdout",
     "output_type": "stream",
     "text": [
      "7.0\n"
     ]
    }
   ],
   "source": [
    "#mean\n",
    "import numpy\n",
    "number_set=[2,4,6,8,10,12]\n",
    "y=numpy.mean(number_set)\n",
    "print y"
   ]
  },
  {
   "cell_type": "code",
   "execution_count": 4,
   "metadata": {},
   "outputs": [
    {
     "name": "stdout",
     "output_type": "stream",
     "text": [
      "66.0\n"
     ]
    }
   ],
   "source": [
    "#median\n",
    "import numpy\n",
    "n2=[99,66,33,44,88]\n",
    "x=numpy.median(n2)\n",
    "print x"
   ]
  },
  {
   "cell_type": "code",
   "execution_count": 7,
   "metadata": {},
   "outputs": [
    {
     "name": "stdout",
     "output_type": "stream",
     "text": [
      "ModeResult(mode=array([111]), count=array([3]))\n"
     ]
    }
   ],
   "source": [
    "#mode\n",
    "from scipy import stats\n",
    "n3=[111,111,112,113,113,111,113,1511,11,1,1,3,55]\n",
    "z=stats.mode(n3)\n",
    "print z"
   ]
  },
  {
   "cell_type": "code",
   "execution_count": 10,
   "metadata": {},
   "outputs": [
    {
     "name": "stdout",
     "output_type": "stream",
     "text": [
      "12649.5\n",
      "33016.908187321234\n"
     ]
    }
   ],
   "source": [
    "#standard Deviation\n",
    "import numpy\n",
    "ex=[11,22,22,55,1000,100000,23,63]\n",
    "avg=numpy.mean(ex)\n",
    "print avg\n",
    "s=numpy.std(ex)\n",
    "print s"
   ]
  },
  {
   "cell_type": "code",
   "execution_count": 12,
   "metadata": {},
   "outputs": [
    {
     "name": "stdout",
     "output_type": "stream",
     "text": [
      "36.599999999999994\n"
     ]
    }
   ],
   "source": [
    "#percentile\n",
    "import numpy\n",
    "ages = [5,31,43,48,50,41,7,11,15,39,80,82,32,2,8,6,25,36,27,61,31]\n",
    "p=numpy.percentile(ages,61)\n",
    "print p"
   ]
  },
  {
   "cell_type": "code",
   "execution_count": 13,
   "metadata": {},
   "outputs": [
    {
     "data": {
      "text/plain": [
       "<Figure size 640x480 with 1 Axes>"
      ]
     },
     "metadata": {},
     "output_type": "display_data"
    }
   ],
   "source": [
    "#Data Distribution\n",
    "import numpy\n",
    "import matplotlib.pyplot as plt\n",
    "x=numpy.random.uniform(0.0,5.0,250)\n",
    "plt.hist(x,5)\n",
    "plt.show()"
   ]
  }
 ],
 "metadata": {
  "kernelspec": {
   "display_name": "Python 2",
   "language": "python",
   "name": "python2"
  },
  "language_info": {
   "codemirror_mode": {
    "name": "ipython",
    "version": 2
   },
   "file_extension": ".py",
   "mimetype": "text/x-python",
   "name": "python",
   "nbconvert_exporter": "python",
   "pygments_lexer": "ipython2",
   "version": "2.7.16"
  }
 },
 "nbformat": 4,
 "nbformat_minor": 2
}
