{
 "cells": [
  {
   "cell_type": "markdown",
   "metadata": {},
   "source": [
    "Write Python Program for the following (include necessary exception handling wherever required):\n",
    "\n",
    "1.\tPrompt the user for a score between 0.0 and 1.0. If the score is out of range, print an error message. If the score is between 0.0 and 1.0, print a grade using the following table:\n",
    "Score\tGrade\n",
    ">= 0.9\tA\n",
    ">= 0.8\tB\n",
    ">= 0.7\tC\n",
    ">= 0.6\tD\n",
    "< 0.6\tE\n",
    "\n",
    "\n"
   ]
  },
  {
   "cell_type": "markdown",
   "metadata": {},
   "source": [
    "2.\tIf cost price and selling price of an item is input through the keyboard, write a program to determine whether the seller has made profit or incurred loss. Also determine how much profit he made or loss he incurred."
   ]
  },
  {
   "cell_type": "code",
   "execution_count": 12,
   "metadata": {},
   "outputs": [
    {
     "name": "stdout",
     "output_type": "stream",
     "text": [
      "Enter the Cost Price of the article 400\n",
      "Enter the Selling Price of the article 350\n",
      "You have made a loss of 12 percent\n"
     ]
    }
   ],
   "source": [
    "cp=float(raw_input(\"Enter the Cost Price of the article \"))\n",
    "sp=float(raw_input(\"Enter the Selling Price of the article \"))\n",
    "profit=(sp-cp)/cp*100\n",
    "loss=(cp-sp)/cp*100\n",
    "if sp>cp:\n",
    "    print(\"You have made a profit of %d percent\"%profit)\n",
    "else:\n",
    "    print(\"You have made a loss of %d percent\"%loss)"
   ]
  },
  {
   "cell_type": "markdown",
   "metadata": {},
   "source": [
    "3.\tAny year is input through the keyboard. Write a program to determine whether the year is a leap year or not."
   ]
  },
  {
   "cell_type": "code",
   "execution_count": 8,
   "metadata": {},
   "outputs": [
    {
     "name": "stdout",
     "output_type": "stream",
     "text": [
      "Input the year to be tested 2020\n",
      "You have an extra day in the year!\n"
     ]
    }
   ],
   "source": [
    "year=R=int(raw_input(\"Input the year to be tested \"))\n",
    "if year%4==0:\n",
    "    print (\"You have an extra day in the year!\")\n",
    "else:\n",
    "    print (\"Not a leap year brother!\")"
   ]
  },
  {
   "cell_type": "markdown",
   "metadata": {},
   "source": [
    "5.\tIf the ages of Ram, Shyam and Ajay are input through the keyboard, write a program to determine the youngest of the three."
   ]
  },
  {
   "cell_type": "code",
   "execution_count": null,
   "metadata": {},
   "outputs": [],
   "source": [
    "R=int(raw_input(\"Enter the age of Ram: \"))\n",
    "S=int(raw_input(\"Enter the age of Shyam: \"))\n",
    "A=int(raw_input(\"Enter the age of Ajay: \"))\n",
    "if R<S and R<A:\n",
    "    print(\"Ram is the youngest!\")\n",
    "elif S<R and S<A:\n",
    "     print(\"Shyam is the youngest!\")\n",
    "elif A<R and A<S:\n",
    "    print(\"Ajay is the youngest!\")\n",
    "else:\n",
    "    print(\"all are of the same age!\")"
   ]
  },
  {
   "cell_type": "markdown",
   "metadata": {},
   "source": [
    "6.\tWrite a program to check whether a triangle is valid or not, when the three angles of the triangle are entered through the keyboard. A triangle is valid if the sum of all the three angles is equal to 180 degrees."
   ]
  },
  {
   "cell_type": "code",
   "execution_count": null,
   "metadata": {},
   "outputs": [],
   "source": [
    "A=int(raw_input(\"Enter the first angle of the triangle: \"))\n",
    "B=int(raw_input(\"Enter the second angle of the triangle: \"))\n",
    "C=int(raw_input(\"Enter the third angle of the triangle \"))\n",
    "if A+B+C==180:\n",
    "    print(\"Its a valid triangle\")\n",
    "else:\n",
    "    print(\"Its and invalid triangle\")"
   ]
  },
  {
   "cell_type": "markdown",
   "metadata": {},
   "source": [
    "7.\tFind the absolute value of a number entered through the keyboard."
   ]
  },
  {
   "cell_type": "code",
   "execution_count": 5,
   "metadata": {},
   "outputs": [
    {
     "name": "stdout",
     "output_type": "stream",
     "text": [
      "Enter an integer value positive or negative -800\n",
      "Mod of the number is:  800 \n"
     ]
    }
   ],
   "source": [
    "A=int(raw_input(\"Enter an integer value positive or negative \"))\n",
    "if A>0:\n",
    "    print(\"Mod of the number is:  %d \"%A)\n",
    "else:\n",
    "    print(\"Mod of the number is:  %d \"%-A)"
   ]
  },
  {
   "cell_type": "markdown",
   "metadata": {},
   "source": [
    "4.\tA five-digit number is entered through the keyboard. Write a program to obtain the reversed number and to determine whether the original and reversed numbers are equal or not"
   ]
  },
  {
   "cell_type": "code",
   "execution_count": 9,
   "metadata": {},
   "outputs": [
    {
     "name": "stdout",
     "output_type": "stream",
     "text": [
      "Enter a number : 2222\n",
      "Reversed number 2222 : \n",
      "The number and its reverse are same\n"
     ]
    }
   ],
   "source": [
    "a=int(raw_input(\"Enter a number : \"))\n",
    "b=a\n",
    "rev=0\n",
    "while a>0:\n",
    "    rem=a%10\n",
    "    rev=rem+(10*rev)\n",
    "    a=a/10\n",
    "print(\"Reversed number %d : \" %rev)\n",
    "if b==rev:\n",
    "    print(\"The number and its reverse are same\")\n",
    "\n"
   ]
  },
  {
   "cell_type": "markdown",
   "metadata": {},
   "source": [
    "9.\tGiven a point (x, y), write a program to find out if it lies on the x-axis, y-axis or at the origin, viz. (0, 0)."
   ]
  },
  {
   "cell_type": "code",
   "execution_count": 15,
   "metadata": {},
   "outputs": [
    {
     "name": "stdout",
     "output_type": "stream",
     "text": [
      "Enter the x cordinate : 1\n",
      "Enter the y cordinate : 1\n",
      "The point lies on +side of X-Y plane\n"
     ]
    }
   ],
   "source": [
    "x=int(raw_input(\"Enter the x cordinate : \"))\n",
    "y=int(raw_input(\"Enter the y cordinate : \"))\n",
    "if x==0 and y==0:\n",
    "    print(\"The point is at the origin\")\n",
    "if x==0 and y!=0:\n",
    "    print(\"The point lies on Y axis\")\n",
    "if x!=0 and y==0:\n",
    "    print(\"The point lies on X axis\")\n",
    "if x!=0 and y!=0:\n",
    "    print(\"The point lies on +side of X-Y plane\")\n",
    "\n"
   ]
  },
  {
   "cell_type": "markdown",
   "metadata": {},
   "source": [
    "\n",
    "Write Python Program for the following (include necessary exception handling wherever required):\n",
    "\n",
    "1.\tPrompt the user for a score between 0.0 and 1.0. If the score is out of range, print an error message. If the score is between 0.0 and 1.0, print a grade using the following table:\n"
   ]
  },
  {
   "cell_type": "code",
   "execution_count": 11,
   "metadata": {},
   "outputs": [
    {
     "name": "stdout",
     "output_type": "stream",
     "text": [
      "Enter a value between 0.0-0.1.00.53\n",
      "Grade E\n"
     ]
    }
   ],
   "source": [
    "a=float(raw_input(\"Enter a value between 0.0-0.1.0\"))\n",
    "if a<0.0 or a>1.0:\n",
    "    print(\"Error-- The value should be between 0.0 and 1.0\")  \n",
    "elif a>=0.9:\n",
    "    print(\"Grade A\")\n",
    "elif a>=0.8:\n",
    "    print(\"Grade B\")\n",
    "elif a>=0.7:\n",
    "    print(\"Grade C\")\n",
    "elif a>=0.6:\n",
    "    print(\"Grade D\")\n",
    "elif a<0.6:\n",
    "    print(\"Grade E\")\n"
   ]
  },
  {
   "cell_type": "markdown",
   "metadata": {},
   "source": [
    "10.\tAn Insurance company follows following rules to calculate premium.\n",
    "\n",
    "a.\tIf a person’s health is excellent and the person is between 25 and 35 years of age and lives in a city and is a male then the premium is Rs. 4 per thousand and his policy amount cannot exceed Rs. 2 lakhs.\n",
    "\n",
    "b.\tIf a person satisfies all the above conditions except that the sex is female then the premium is Rs. 3 per thousand and her policy amount cannot exceed Rs. 1 lakh.\n",
    "\n",
    "c.\tIf a person’s health is poor and the person is between 25 and 35 years of age and lives in a village and is a male\n",
    "\n",
    "Write a program to output whether the person should be insured or not, his/her premium rate and maximum amount for which he/she can be insured.\n"
   ]
  },
  {
   "cell_type": "code",
   "execution_count": null,
   "metadata": {},
   "outputs": [],
   "source": [
    "Health_Cond=str(raw_input(\"Enter the health Condition of the person\"))\n",
    "gender=str(raw_input(\"Enter the gender of the person\"))\n",
    "age=int(raw_input(\"Enter the age of the person\"))\n",
    "city=str(raw_input(\"Enter the area in which person lives\"))\n",
    "policy_amt=int(raw_input(\"Enter the policy amount\"))"
   ]
  },
  {
   "cell_type": "markdown",
   "metadata": {},
   "source": [
    "11.\tA certain grade of steel is graded according to the following conditions:\n",
    "\n",
    "a.\t(i) Hardness must be greater than 50\n",
    "b.\t(ii) Carbon content must be less than 0.7\n",
    "c.\t(iii) Tensile strength must be greater than 5600\n",
    "\n",
    "The grades are as follows:\n",
    "\n",
    "Grade is 10 if all three conditions are met\n",
    " \tGrade is 9 if conditions (i) and (ii) are met\n",
    "Grade is 8 if conditions (ii) and (iii) are met\n",
    "Grade is 7 if conditions (i) and (iii) are met\n",
    "Grade is 6 if only one condition is met\n",
    "Grade is 5 if none of the conditions are met\n",
    "\n",
    "Write a program, which will require the user to give values of hardness, carbon content and tensile strength of the steel under consideration and output the grade of the steel.\n"
   ]
  },
  {
   "cell_type": "code",
   "execution_count": 13,
   "metadata": {},
   "outputs": [
    {
     "name": "stdout",
     "output_type": "stream",
     "text": [
      "Enter the Hardness of the steel49\n",
      "Enter the carbon content of the steel0.8\n",
      "Enter the Tensile strenght of the steel5400\n",
      "Grade 5 Steel\n"
     ]
    }
   ],
   "source": [
    "hard=float(raw_input(\"Enter the Hardness of the steel\"))\n",
    "C_cont=float(raw_input(\"Enter the carbon content of the steel\"))\n",
    "T_stren=float(raw_input(\"Enter the Tensile strenght of the steel\"))\n",
    "if hard>50 and C_cont<0.7 and T_stren>5600:\n",
    "    print(\"Grade 10 Steel\")\n",
    "elif hard>50 and C_cont<0.7 and T_stren<5600:\n",
    "    print(\"Grade 9 Steel\")\n",
    "elif hard<50 and C_cont<0.7 and T_stren>5600:\n",
    "    print(\"Grade 8 Steel\")\n",
    "elif hard>50 and C_cont>0.7 and T_stren>5600:\n",
    "    print(\"Grade 7 Steel\")\n",
    "elif hard>50 or C_cont<0.7 or T_stren>5600:\n",
    "    print(\"Grade 6 Steel\")\n",
    "elif hard<50 or C_cont>0.7 or T_stren<5600:\n",
    "    print(\"Grade 5 Steel\")"
   ]
  },
  {
   "cell_type": "markdown",
   "metadata": {},
   "source": [
    "12.\tA library charges a fine for every book returned late. For first 5 days the fine is 50 paise, for 6-10 days fine is one rupee and above 10 days fine is 5 rupees. If you return the book after 30 days your membership will be cancelled. Write a program to accept the number of days the member is late to return the book and display the fine or the appropriate message."
   ]
  },
  {
   "cell_type": "code",
   "execution_count": 34,
   "metadata": {},
   "outputs": [
    {
     "name": "stdout",
     "output_type": "stream",
     "text": [
      "Enter the number of days by which you are late -12222\n",
      "You cannot enter a value greater than 60 days\n"
     ]
    }
   ],
   "source": [
    "try:\n",
    "    days=int(raw_input(\"Enter the number of days by which you are late -\"))\n",
    "    if days<=60:\n",
    "        if days<0:\n",
    "            print(\"Days cannot be negative\")\n",
    "        if days>0 and days<=5:\n",
    "            print(\"Your fine is 50 paisa\")\n",
    "        elif days>=6 and days<=10:\n",
    "            print(\"Your fine is 1 Ruppee\")    \n",
    "        elif days>10 and days<30:\n",
    "            print(\"Your fine is 5 Ruppee\")\n",
    "        elif days>=30:\n",
    "            print(\"Your membership has been cancelled\")\n",
    "    else:\n",
    "        print(\"You cannot enter a value greater than 60 days\")\n",
    "except ValueError:\n",
    "    print(\"Invalid entry\")\n",
    "\n",
    "    \n",
    "\n"
   ]
  }
 ],
 "metadata": {
  "kernelspec": {
   "display_name": "Python 2",
   "language": "python",
   "name": "python2"
  },
  "language_info": {
   "codemirror_mode": {
    "name": "ipython",
    "version": 2
   },
   "file_extension": ".py",
   "mimetype": "text/x-python",
   "name": "python",
   "nbconvert_exporter": "python",
   "pygments_lexer": "ipython2",
   "version": "2.7.16"
  }
 },
 "nbformat": 4,
 "nbformat_minor": 2
}
