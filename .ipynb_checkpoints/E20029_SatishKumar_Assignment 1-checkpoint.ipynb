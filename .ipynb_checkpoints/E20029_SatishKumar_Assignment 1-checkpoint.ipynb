{
 "cells": [
  {
   "cell_type": "markdown",
   "metadata": {},
   "source": [
    "# Python Assignment 1\n",
    "## Satish Kumar - E20029"
   ]
  },
  {
   "cell_type": "markdown",
   "metadata": {},
   "source": [
    "For a certain academic subject the students are evaluated based on five tests -  \n",
    "* Quiz 1 (20 marks - 10% Weight), \n",
    "* Quiz 2 (20 marks - 10% Weight), \n",
    "* Class test (50 marks - 25% Weight), \n",
    "* Assignment (100 marks - 25% weight) and \n",
    "* Project (200 marks - 30% weight). \n",
    "\n",
    "Design a program that will prompt the user for marks for each of the tests and calculate the overall marks (out of 100)."
   ]
  },
  {
   "cell_type": "code",
   "execution_count": null,
   "metadata": {},
   "outputs": [],
   "source": [
    "#improvising on existing code with try except\n",
    "Q1=raw_input('Enter the marks in Quiz 1: ') #taking inputs from the user\n",
    "try :\n",
    "    val=float(Q1)\n",
    "    if val>20:                              #checking wether the values entered is greater than 20\n",
    "        raise Exception('maximum mark is 20')#if the marks is greater than 20. Raise an exception since 20 is the maximum marks  \n",
    "except ValueError:\n",
    "    print (\"The Input Should Be a Number\") #exception raised when the input is not a number\n",
    "Q2=raw_input('Enter the marks in Quiz 2: ')# The same process is repeated for each of the inputs\n",
    "try :\n",
    "    val1=float(Q2)\n",
    "    if val1>20:\n",
    "        raise Exception('maximum mark is 20')\n",
    "except ValueError:\n",
    "    print (\"The Input Should Be a Number\")\n",
    "\n",
    "Class_Test=raw_input('Enter the marks in Class Test: ') \n",
    "Q2=raw_input('Enter the marks in Quiz 2: ')\n",
    "try :\n",
    "    val2=float(Class_Test)\n",
    "    if val2>50:\n",
    "        raise Exception('maximum mark is 50')\n",
    "except ValueError:\n",
    "    print (\"The Input Should Be a Number\")\n",
    "A=raw_input('Enter the marks in Assigment: ') \n",
    "try :\n",
    "    val3=float(A)\n",
    "    if val3>100:\n",
    "        raise Exception('maximum mark is 100')\n",
    "except ValueError:\n",
    "    print (\"The Input Should Be a Number\")\n",
    "Project=raw_input('Enter the marks in project: ')\n",
    "try :\n",
    "    val4=float(Q1)\n",
    "    if val3>200:\n",
    "        raise Exception('maximum mark is 200')\n",
    "except ValueError:\n",
    "    print (\"The Input Should Be a Number\")\n",
    "try:  #try block is added to check if a single or multiple inputs are invalid\n",
    "    Total_Marks=0.1*float(Q1)+0.1*float(Q2)+0.25*float(Class_Test)+0.25*float(A)+0.3*float(Project)# Total Marks out of 100 is calculated\n",
    "    print Total_Marks\n",
    "except:\n",
    "    print(\"Inputs are invalid\")"
   ]
  },
  {
   "cell_type": "code",
   "execution_count": null,
   "metadata": {},
   "outputs": [],
   "source": [
    "#Using a python script as an input to the program\n",
    "import os\n",
    "try:\n",
    "    os.chdir('D:\\\\Downloads')# try block is included to check wether the path given is invalid or valid\n",
    "except WindowsError :\n",
    "    print (\"Please provide proper file path\")\n",
    "try: #try block used to check wether the script is available in the location or not\n",
    "    import Package\n",
    "    Package.fun()\n",
    "except:\n",
    "    print \"file not found\""
   ]
  },
  {
   "cell_type": "code",
   "execution_count": null,
   "metadata": {},
   "outputs": [],
   "source": [
    "#Checking for index errors\n",
    "L1=[1,2,3]     #defining a list with specified elements\n",
    "try:           #putting a try block to tackle unavailable index number\n",
    "    x=int(raw_input(\"Enter the index of the element to be displayed\"))#input the index of the element to be displayed\n",
    "    print L1[x]#displaying the number according to the index specified\n",
    "except IndexError:\n",
    "    print(\"Please specify the correct element number\")\n",
    "    "
   ]
  }
 ],
 "metadata": {
  "kernelspec": {
   "display_name": "Python 2",
   "language": "python",
   "name": "python2"
  },
  "language_info": {
   "codemirror_mode": {
    "name": "ipython",
    "version": 2
   },
   "file_extension": ".py",
   "mimetype": "text/x-python",
   "name": "python",
   "nbconvert_exporter": "python",
   "pygments_lexer": "ipython2",
   "version": "2.7.16"
  }
 },
 "nbformat": 4,
 "nbformat_minor": 2
}
