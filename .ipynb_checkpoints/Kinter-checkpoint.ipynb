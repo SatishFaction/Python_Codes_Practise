{
 "cells": [
  {
   "cell_type": "code",
   "execution_count": 3,
   "metadata": {},
   "outputs": [
    {
     "ename": "AttributeError",
     "evalue": "'module' object has no attribute 'Tk'",
     "output_type": "error",
     "traceback": [
      "\u001b[1;31m---------------------------------------------------------------------------\u001b[0m",
      "\u001b[1;31mAttributeError\u001b[0m                            Traceback (most recent call last)",
      "\u001b[1;32m<ipython-input-3-08682598ecde>\u001b[0m in \u001b[0;36m<module>\u001b[1;34m()\u001b[0m\n\u001b[0;32m     25\u001b[0m \u001b[1;33m\u001b[0m\u001b[0m\n\u001b[0;32m     26\u001b[0m \u001b[1;33m\u001b[0m\u001b[0m\n\u001b[1;32m---> 27\u001b[1;33m \u001b[0mwindow\u001b[0m \u001b[1;33m=\u001b[0m \u001b[0mtkinter\u001b[0m\u001b[1;33m.\u001b[0m\u001b[0mTk\u001b[0m\u001b[1;33m(\u001b[0m\u001b[1;33m)\u001b[0m\u001b[1;33m\u001b[0m\u001b[0m\n\u001b[0m\u001b[0;32m     28\u001b[0m \u001b[0mwindow\u001b[0m\u001b[1;33m.\u001b[0m\u001b[0mtitle\u001b[0m\u001b[1;33m(\u001b[0m\u001b[1;34m\"Take A Break App\"\u001b[0m\u001b[1;33m)\u001b[0m\u001b[1;33m\u001b[0m\u001b[0m\n\u001b[0;32m     29\u001b[0m \u001b[1;31m#window.geometry('200x250')\u001b[0m\u001b[1;33m\u001b[0m\u001b[1;33m\u001b[0m\u001b[0m\n",
      "\u001b[1;31mAttributeError\u001b[0m: 'module' object has no attribute 'Tk'"
     ]
    }
   ],
   "source": [
    "import tkinter\n",
    "from tkinter import *\n",
    "import webbrowser as wb\n",
    "import time as t\n",
    "\n",
    "time1 = \"\"\n",
    "\n",
    "def openfb(x):\n",
    "    new = 1\n",
    "    wb.open(x, new=new)\n",
    "\n",
    "def openinsta(x):\n",
    "    new = 1\n",
    "    wb.open(x, new=new)\n",
    "\n",
    "def opennews(x):\n",
    "    new = 1\n",
    "    wb.open(x, new=new)\n",
    "\n",
    "def quit(x):\n",
    "    window.quit()\n",
    "\n",
    "\n",
    "\n",
    "\n",
    "\n",
    "window = tkinter.Tk()\n",
    "window.title(\"Take A Break App\")\n",
    "#window.geometry('200x250')\n",
    "\n",
    "\n",
    "\n",
    "\n",
    "hello = Label(window, text=\"Welcome to Take A Break App\" )\n",
    "hello.grid(row = 0, column= 1)\n",
    "\n",
    "start = Button(window, text = \"Start\", bg=\"Green\", fg= \"Black\")\n",
    "start.grid(row = 1, column = 0)\n",
    "\n",
    "clock = Label(window, bg=\"Green\", fg= \"Black\")\n",
    "clock.grid(row = 1, column = 3)\n",
    "\n",
    "news = Button(window, text = \"News\", command = lambda: opennews(\"www.msn.com\"), bg=\"Yellow\", fg= \"Black\")\n",
    "news.grid(row = 2, column = 0)\n",
    "\n",
    "fb = Button(window, text = \"Facebook\", command = lambda: openfb(\"www.facebook.com\"), bg=\"Blue\", fg= \"White\")\n",
    "fb.grid(row = 2, column = 1)\n",
    "\n",
    "insta = Button(window, text = \"Instagram\", command= lambda: openinsta(\"www.instagram.com\"), bg=\"Yellow\", fg= \"Black\")\n",
    "insta.grid(row = 2, column = 2)\n",
    "\n",
    "game = Button(window, text = \"Game\", bg=\"Yellow\", fg= \"Black\")\n",
    "game.grid(row = 3, column = 0)\n",
    "\n",
    "Music = Button(window, text = \"Music\", bg=\"Yellow\", fg= \"Black\")\n",
    "Music.grid(row = 3, column = 1)\n",
    "\n",
    "Ytb = Button(window, text = \"Youtube\", bg=\"Yellow\", fg= \"Black\")\n",
    "Ytb.grid(row = 3, column = 2)\n",
    "\n",
    "quitbutton = Button(window, text = \"Exit\", command = lambda: quit(window), bg = \"red\", fg = \"black\")\n",
    "quitbutton.grid(row = 6, column = 3)\n",
    "\n",
    "\n",
    "def tick():\n",
    "    global time1\n",
    "    time2 = t.strftime('%H:%M:%S')\n",
    "\n",
    "    if time2 != time1:\n",
    "        time1 = time2\n",
    "        clock.config(text = time2)\n",
    "        clock.after(10,tick)\n",
    "\n",
    "tick()\n",
    "window.mainloop()"
   ]
  },
  {
   "cell_type": "code",
   "execution_count": null,
   "metadata": {},
   "outputs": [],
   "source": []
  }
 ],
 "metadata": {
  "kernelspec": {
   "display_name": "Python 2",
   "language": "python",
   "name": "python2"
  },
  "language_info": {
   "codemirror_mode": {
    "name": "ipython",
    "version": 2
   },
   "file_extension": ".py",
   "mimetype": "text/x-python",
   "name": "python",
   "nbconvert_exporter": "python",
   "pygments_lexer": "ipython2",
   "version": "2.7.16"
  }
 },
 "nbformat": 4,
 "nbformat_minor": 2
}
