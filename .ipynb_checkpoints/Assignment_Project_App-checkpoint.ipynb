{
 "cells": [
  {
   "cell_type": "code",
   "execution_count": null,
   "metadata": {},
   "outputs": [],
   "source": [
    "#Creating a basic window with label using tkinter\n",
    "from tkinter import *\n",
    "root=Tk()#basic window\n",
    "theLabel= Label(root, text=\"first window\")#we add a label to the window\n",
    "theLabel.pack()#pack the label in the window\n",
    "root.mainloop()#display it for a long time"
   ]
  },
  {
   "cell_type": "code",
   "execution_count": 2,
   "metadata": {},
   "outputs": [],
   "source": [
    "#adding buttons\n",
    "from tkinter import *\n",
    "root=Tk()\n",
    "topFrame= Frame(root)\n",
    "topFrame.pack()\n",
    "bottomFrame= Frame(root)\n",
    "bottomFrame.pack(side=BOTTOM)\n",
    "b1= Button(topFrame,text=\"YouTube\",fg=\"red\")\n",
    "b2= Button(bottomFrame,text=\"Exit\",fg=\"blue\")\n",
    "b1.pack(side=LEFT)\n",
    "b2.pack(side=BOTTOM)\n",
    "root.mainloop()"
   ]
  },
  {
   "cell_type": "code",
   "execution_count": null,
   "metadata": {},
   "outputs": [],
   "source": [
    "from tkinter import *\n",
    "root=Tk()\n",
    "\n",
    "root.mainloop()"
   ]
  },
  {
   "cell_type": "code",
   "execution_count": 3,
   "metadata": {},
   "outputs": [
    {
     "name": "stdout",
     "output_type": "stream",
     "text": [
      "Single Click, Button-l\n",
      "Single Click, Button-l\n"
     ]
    }
   ],
   "source": [
    "from tkinter import *\n",
    "def hello(event):\n",
    "    print(\"Single Click, Button-l\") \n",
    "def quit(event):                           \n",
    "    print(\"Double Click, so let's stop\") \n",
    "    import sys; sys.exit() \n",
    "\n",
    "widget = Button(None, text='Mouse Clicks')\n",
    "widget.pack()\n",
    "widget.bind('<Button-1>', hello)\n",
    "widget.bind('<Double-1>', quit) \n",
    "widget.mainloop()"
   ]
  },
  {
   "cell_type": "code",
   "execution_count": 5,
   "metadata": {},
   "outputs": [
    {
     "ename": "IndentationError",
     "evalue": "expected an indented block (<ipython-input-5-755e5cb9203f>, line 5)",
     "output_type": "error",
     "traceback": [
      "\u001b[1;36m  File \u001b[1;32m\"<ipython-input-5-755e5cb9203f>\"\u001b[1;36m, line \u001b[1;32m5\u001b[0m\n\u001b[1;33m    print('hello')\u001b[0m\n\u001b[1;37m        ^\u001b[0m\n\u001b[1;31mIndentationError\u001b[0m\u001b[1;31m:\u001b[0m expected an indented block\n"
     ]
    }
   ],
   "source": [
    "self.submitButton = Button(master, command=self.buttonClick, text=\"Submit\")\n",
    "    self.submitButton.grid()\n",
    "\n",
    "def buttonClick(self):\n",
    "    print('hello') "
   ]
  },
  {
   "cell_type": "code",
   "execution_count": null,
   "metadata": {},
   "outputs": [],
   "source": []
  }
 ],
 "metadata": {
  "kernelspec": {
   "display_name": "Python 2",
   "language": "python",
   "name": "python2"
  },
  "language_info": {
   "codemirror_mode": {
    "name": "ipython",
    "version": 2
   },
   "file_extension": ".py",
   "mimetype": "text/x-python",
   "name": "python",
   "nbconvert_exporter": "python",
   "pygments_lexer": "ipython2",
   "version": "2.7.16"
  }
 },
 "nbformat": 4,
 "nbformat_minor": 2
}
