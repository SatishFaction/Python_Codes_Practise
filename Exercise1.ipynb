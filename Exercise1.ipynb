{
 "cells": [
  {
   "cell_type": "markdown",
   "metadata": {},
   "source": [
    "1.\tRamesh’s basic salary is input through the keyboard. His dearness allowance is 40% of basic salary, and house rent allowance is 20% of basic salary. Write a program to calculate his gross salary."
   ]
  },
  {
   "cell_type": "code",
   "execution_count": 15,
   "metadata": {},
   "outputs": [
    {
     "name": "stdout",
     "output_type": "stream",
     "text": [
      "Enter your basic salary: 4000\n",
      "Your Gross Salary is 6400 \n"
     ]
    }
   ],
   "source": [
    "b_sal=float(input('Enter your basic salary: '))\n",
    "gross=b_sal + (40.0/100)*b_sal+(20.0/100)*b_sal\n",
    "print ('Your Gross Salary is %d '%gross)"
   ]
  },
  {
   "cell_type": "code",
   "execution_count": 16,
   "metadata": {},
   "outputs": [
    {
     "data": {
      "text/plain": [
       "0.4"
      ]
     },
     "execution_count": 16,
     "metadata": {},
     "output_type": "execute_result"
    }
   ],
   "source": [
    "40.0/100\n"
   ]
  },
  {
   "cell_type": "markdown",
   "metadata": {},
   "source": [
    "2.\tThe distance between two cities (in km.) is input through the keyboard. Write a program to convert and print this distance in meters, feet, inches and centimeters."
   ]
  },
  {
   "cell_type": "code",
   "execution_count": 20,
   "metadata": {},
   "outputs": [
    {
     "name": "stdout",
     "output_type": "stream",
     "text": [
      "enter the distance between two cities in KM: 2\n",
      "The distance in metres is :2000\n",
      "The distance in feet is :6561.68 \n",
      "The distance in inches is :78740.2 \n",
      "The distance in centimeter is : 200000\n"
     ]
    }
   ],
   "source": [
    "i=input('enter the distance between two cities in KM: ')\n",
    "d_metres=i*1000.0\n",
    "d_feet=i*3280.84\n",
    "d_inches=i*39370.1\n",
    "d_centimeter=i*100000.0\n",
    "print('The distance in metres is :%g'%d_metres)\n",
    "print('The distance in feet is :%g '%d_feet)\n",
    "print('The distance in inches is :%g '%d_inches)\n",
    "print('The distance in centimeter is : %g'%d_centimeter)"
   ]
  },
  {
   "cell_type": "markdown",
   "metadata": {},
   "source": [
    "3.\tIf the marks obtained by a student in five different subjects are input through the keyboard, find out the aggregate marks and percentage marks obtained by the student. Assume that the maximum marks that can be obtained by a student in each subject is 100."
   ]
  },
  {
   "cell_type": "code",
   "execution_count": 29,
   "metadata": {},
   "outputs": [
    {
     "name": "stdout",
     "output_type": "stream",
     "text": [
      "enter the marks in first subject:  3\n",
      "enter the marks in second subject:  3\n",
      "enter the marks in third subject:  3\n",
      "enter the marks in fourth subject:  3\n",
      "enter the marks in fifth subject:  3\n",
      "Agregate marks : 15\n",
      "Percentage : 3\n"
     ]
    }
   ],
   "source": [
    "m1=input('enter the marks in first subject:  ')\n",
    "m2=input('enter the marks in second subject:  ')\n",
    "m3=input('enter the marks in third subject:  ')\n",
    "m4=input('enter the marks in fourth subject:  ')\n",
    "m5=input('enter the marks in fifth subject:  ')\n",
    "agg=float(m1+m2+m3+m4+m5)\n",
    "per=agg/500*100\n",
    "print('Agregate marks : %g'%agg)\n",
    "print('Percentage : %d'%per)"
   ]
  },
  {
   "cell_type": "markdown",
   "metadata": {},
   "source": [
    "7.\tIf a five-digit number is input through the keyboard, write a program to reverse the number."
   ]
  },
  {
   "cell_type": "code",
   "execution_count": 34,
   "metadata": {},
   "outputs": [
    {
     "name": "stdout",
     "output_type": "stream",
     "text": [
      "enter a five digit number: 123456\n",
      "Reverse of the number: 654321\n"
     ]
    }
   ],
   "source": [
    "i=int(input('enter a five digit number: '))\n",
    "rev=0\n",
    "while i>0:\n",
    "    rem=i%10\n",
    "    rev=rev*10+rem\n",
    "    i=i/10\n",
    "print ('Reverse of the number: %d'%rev)"
   ]
  },
  {
   "cell_type": "markdown",
   "metadata": {},
   "source": [
    "8.\tIf a four-digit number is input through the keyboard, write a program to obtain the sum of the first and last digit of this number."
   ]
  },
  {
   "cell_type": "code",
   "execution_count": 41,
   "metadata": {},
   "outputs": [
    {
     "name": "stdout",
     "output_type": "stream",
     "text": [
      "Enter a number:456\n",
      "9\n"
     ]
    }
   ],
   "source": [
    "\n",
    "def fun(n):\n",
    "    while n>=10:\n",
    "        rem=n%10\n",
    "        n=n/10\n",
    "        \n",
    "    return int(n+rem)\n",
    "\n",
    "a=fun(input('Enter a number:'))\n",
    "\n",
    "print a\n"
   ]
  }
 ],
 "metadata": {
  "kernelspec": {
   "display_name": "Python 2",
   "language": "python",
   "name": "python2"
  },
  "language_info": {
   "codemirror_mode": {
    "name": "ipython",
    "version": 2
   },
   "file_extension": ".py",
   "mimetype": "text/x-python",
   "name": "python",
   "nbconvert_exporter": "python",
   "pygments_lexer": "ipython2",
   "version": "2.7.16"
  }
 },
 "nbformat": 4,
 "nbformat_minor": 2
}
