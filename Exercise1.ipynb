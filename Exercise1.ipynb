{
 "cells": [
  {
   "cell_type": "markdown",
   "metadata": {},
   "source": [
    "1.\tRamesh’s basic salary is input through the keyboard. His dearness allowance is 40% of basic salary, and house rent allowance is 20% of basic salary. Write a program to calculate his gross salary."
   ]
  },
  {
   "cell_type": "code",
   "execution_count": 15,
   "metadata": {},
   "outputs": [
    {
     "name": "stdout",
     "output_type": "stream",
     "text": [
      "Enter your basic salary: 4000\n",
      "Your Gross Salary is 6400 \n"
     ]
    }
   ],
   "source": [
    "b_sal=float(input('Enter your basic salary: '))\n",
    "gross=b_sal + (40.0/100)*b_sal+(20.0/100)*b_sal\n",
    "print ('Your Gross Salary is %d '%gross)"
   ]
  },
  {
   "cell_type": "code",
   "execution_count": 16,
   "metadata": {},
   "outputs": [
    {
     "data": {
      "text/plain": [
       "0.4"
      ]
     },
     "execution_count": 16,
     "metadata": {},
     "output_type": "execute_result"
    }
   ],
   "source": [
    "40.0/100\n"
   ]
  },
  {
   "cell_type": "markdown",
   "metadata": {},
   "source": [
    "2.\tThe distance between two cities (in km.) is input through the keyboard. Write a program to convert and print this distance in meters, feet, inches and centimeters."
   ]
  },
  {
   "cell_type": "code",
   "execution_count": 20,
   "metadata": {},
   "outputs": [
    {
     "name": "stdout",
     "output_type": "stream",
     "text": [
      "enter the distance between two cities in KM: 2\n",
      "The distance in metres is :2000\n",
      "The distance in feet is :6561.68 \n",
      "The distance in inches is :78740.2 \n",
      "The distance in centimeter is : 200000\n"
     ]
    }
   ],
   "source": [
    "i=input('enter the distance between two cities in KM: ')\n",
    "d_metres=i*1000.0\n",
    "d_feet=i*3280.84\n",
    "d_inches=i*39370.1\n",
    "d_centimeter=i*100000.0\n",
    "print('The distance in metres is :%g'%d_metres)\n",
    "print('The distance in feet is :%g '%d_feet)\n",
    "print('The distance in inches is :%g '%d_inches)\n",
    "print('The distance in centimeter is : %g'%d_centimeter)"
   ]
  },
  {
   "cell_type": "markdown",
   "metadata": {},
   "source": [
    "3.\tIf the marks obtained by a student in five different subjects are input through the keyboard, find out the aggregate marks and percentage marks obtained by the student. Assume that the maximum marks that can be obtained by a student in each subject is 100."
   ]
  },
  {
   "cell_type": "code",
   "execution_count": 29,
   "metadata": {},
   "outputs": [
    {
     "name": "stdout",
     "output_type": "stream",
     "text": [
      "enter the marks in first subject:  3\n",
      "enter the marks in second subject:  3\n",
      "enter the marks in third subject:  3\n",
      "enter the marks in fourth subject:  3\n",
      "enter the marks in fifth subject:  3\n",
      "Agregate marks : 15\n",
      "Percentage : 3\n"
     ]
    }
   ],
   "source": [
    "m1=input('enter the marks in first subject:  ')\n",
    "m2=input('enter the marks in second subject:  ')\n",
    "m3=input('enter the marks in third subject:  ')\n",
    "m4=input('enter the marks in fourth subject:  ')\n",
    "m5=input('enter the marks in fifth subject:  ')\n",
    "agg=float(m1+m2+m3+m4+m5)\n",
    "per=agg/500*100\n",
    "print('Agregate marks : %g'%agg)\n",
    "print('Percentage : %d'%per)"
   ]
  },
  {
   "cell_type": "markdown",
   "metadata": {},
   "source": [
    "7.\tIf a five-digit number is input through the keyboard, write a program to reverse the number."
   ]
  },
  {
   "cell_type": "code",
   "execution_count": 34,
   "metadata": {},
   "outputs": [
    {
     "name": "stdout",
     "output_type": "stream",
     "text": [
      "enter a five digit number: 123456\n",
      "Reverse of the number: 654321\n"
     ]
    }
   ],
   "source": [
    "i=int(input('enter a five digit number: '))\n",
    "rev=0\n",
    "while i>0:\n",
    "    rem=i%10\n",
    "    rev=rev*10+rem\n",
    "    i=i/10\n",
    "print ('Reverse of the number: %d'%rev)"
   ]
  },
  {
   "cell_type": "markdown",
   "metadata": {},
   "source": [
    "8.\tIf a four-digit number is input through the keyboard, write a program to obtain the sum of the first and last digit of this number."
   ]
  },
  {
   "cell_type": "code",
   "execution_count": 1,
   "metadata": {},
   "outputs": [
    {
     "name": "stdout",
     "output_type": "stream",
     "text": [
      "Enter a number:34567\n",
      "7\n"
     ]
    }
   ],
   "source": [
    "\n",
    "def fun(n):\n",
    "    while n>=10:\n",
    "        rem=n%10\n",
    "        n=n/10\n",
    "        \n",
    "    return int(n+rem)\n",
    "\n",
    "a=fun(input('Enter a number:'))\n",
    "\n",
    "print a\n"
   ]
  },
  {
   "cell_type": "markdown",
   "metadata": {},
   "source": [
    "5.\tThe length & breadth of a rectangle and radius of a circle are input through the keyboard. Write a program to calculate the area & perimeter of the rectangle, and the area & circumference of the circle."
   ]
  },
  {
   "cell_type": "code",
   "execution_count": 2,
   "metadata": {},
   "outputs": [
    {
     "name": "stdout",
     "output_type": "stream",
     "text": [
      "Enter the lenght of the rectangle: 2\n",
      "Enter the breadth of the rectangle: 2\n",
      "Enter the radius of the circle: 2\n",
      "('Area of the rectangle is ', 4.0)\n",
      "('Area of the circle is ', 12.56)\n",
      "('perimeter of the circle is ', 12.56)\n",
      "('perimeter of the rectangle is ', 8.0)\n"
     ]
    }
   ],
   "source": [
    "l=float(raw_input(\"Enter the lenght of the rectangle: \"))\n",
    "b=float(raw_input(\"Enter the breadth of the rectangle: \"))\n",
    "r=float(raw_input(\"Enter the radius of the circle: \"))\n",
    "a_rectangle=l*b\n",
    "p_rectangle=2.0*(l+b)\n",
    "a_circle=3.14*(r**2)\n",
    "p_circle=2.0*3.14*r\n",
    "print(\"Area of the rectangle is \",a_rectangle)\n",
    "print(\"Area of the circle is \",a_circle)\n",
    "print(\"perimeter of the circle is \",p_circle)\n",
    "print(\"perimeter of the rectangle is \",p_rectangle)"
   ]
  },
  {
   "cell_type": "markdown",
   "metadata": {},
   "source": [
    "6.\tTwo numbers are input through the keyboard into two locations C and D. Write a program to interchange the contents of C and D."
   ]
  },
  {
   "cell_type": "code",
   "execution_count": 4,
   "metadata": {},
   "outputs": [
    {
     "name": "stdout",
     "output_type": "stream",
     "text": [
      "Enter the 1st number: 45\n",
      "Enter the 1st number: 65\n",
      "(65, 45)\n"
     ]
    }
   ],
   "source": [
    "A=int(raw_input(\"Enter the 1st number: \"))\n",
    "B=int(raw_input(\"Enter the 1st number: \"))\n",
    "temp=A\n",
    "A=B\n",
    "B=temp\n",
    "print(A,B)\n"
   ]
  },
  {
   "cell_type": "markdown",
   "metadata": {},
   "source": [
    "7.\tIf a five-digit number is input through the keyboard, write a program to reverse the number."
   ]
  },
  {
   "cell_type": "code",
   "execution_count": 5,
   "metadata": {},
   "outputs": [
    {
     "name": "stdout",
     "output_type": "stream",
     "text": [
      "Enter the number: 123\n",
      "12\n",
      "1\n",
      "0\n",
      "('reverse ', 321)\n"
     ]
    }
   ],
   "source": [
    "z=int(raw_input(\"Enter the number: \"))\n",
    "reverse=0\n",
    "while z>0:\n",
    "    rem=z%10\n",
    "    reverse=(reverse*10)+rem\n",
    "    z=z/10\n",
    "    print(z)\n",
    "print(\"reverse \",reverse)"
   ]
  },
  {
   "cell_type": "code",
   "execution_count": 14,
   "metadata": {},
   "outputs": [
    {
     "name": "stdout",
     "output_type": "stream",
     "text": [
      "Enter the number: 123456\n",
      "1\n",
      "2\n",
      "3\n",
      "4\n",
      "5\n",
      "6\n",
      "('Number of digits', 6)\n"
     ]
    }
   ],
   "source": [
    "m=raw_input(\"Enter the number: \")\n",
    "count=0\n",
    "for i in range(1,len(m)):\n",
    "    count+=1\n",
    "    print(i)\n",
    "print(\"Number of digits\",count)\n"
   ]
  },
  {
   "cell_type": "markdown",
   "metadata": {},
   "source": [
    "8.\tIf a four-digit number is input through the keyboard, write a program to obtain the sum of the first and last digit of this number."
   ]
  },
  {
   "cell_type": "code",
   "execution_count": 17,
   "metadata": {},
   "outputs": [
    {
     "name": "stdout",
     "output_type": "stream",
     "text": [
      "Enter the number: 89898\n",
      "Sum of first and last digit of the number is 16 \n"
     ]
    }
   ],
   "source": [
    "m=int(raw_input(\"Enter the number: \"))\n",
    "rev=0\n",
    "Last_Digit=m%10\n",
    "while m>0:\n",
    "    rem=m%10\n",
    "    rev=(10*rev)+rem\n",
    "    m=m/10\n",
    "first_digt=rev%10\n",
    "su=first_digt+Last_Digit\n",
    "print(\"Sum of first and last digit of the number is %d \" %su)\n"
   ]
  },
  {
   "cell_type": "markdown",
   "metadata": {},
   "source": [
    "\n",
    "9.\tIn a town, the percentage of men is 52. The percentage of total literacy is 48. If total percentage of literate men is 35 of the total population, write a program to find the total number of illiterate men and women if the population of the town is 80,000.\n"
   ]
  },
  {
   "cell_type": "code",
   "execution_count": 22,
   "metadata": {},
   "outputs": [
    {
     "name": "stdout",
     "output_type": "stream",
     "text": [
      "Illiterate men are 27040 \n",
      "Illiterate women are 14976 \n"
     ]
    },
    {
     "data": {
      "text/plain": [
       "80000.0"
      ]
     },
     "execution_count": 22,
     "metadata": {},
     "output_type": "execute_result"
    }
   ],
   "source": [
    "num_men=52.0/100*80000\n",
    "num_literate=48.0/100*80000\n",
    "num_literate_men=35.0/100*num_men\n",
    "num_illiterate_men=num_men-num_literate_men\n",
    "num_women=48.0/100*80000\n",
    "num_literate_women=61.0/100*num_women\n",
    "num_illiterate_women=39.0/100*num_women\n",
    "print(\"Illiterate men are %d \" %num_illiterate_men)\n",
    "print(\"Illiterate women are %d \" %num_illiterate_women)\n",
    "\n",
    "num_literate_men+num_illiterate_men+num_literate_women+num_illiterate_women"
   ]
  }
 ],
 "metadata": {
  "kernelspec": {
   "display_name": "Python 2",
   "language": "python",
   "name": "python2"
  },
  "language_info": {
   "codemirror_mode": {
    "name": "ipython",
    "version": 2
   },
   "file_extension": ".py",
   "mimetype": "text/x-python",
   "name": "python",
   "nbconvert_exporter": "python",
   "pygments_lexer": "ipython2",
   "version": "2.7.16"
  }
 },
 "nbformat": 4,
 "nbformat_minor": 2
}
