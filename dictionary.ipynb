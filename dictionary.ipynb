{
 "cells": [
  {
   "cell_type": "code",
   "execution_count": 6,
   "metadata": {},
   "outputs": [
    {
     "data": {
      "text/plain": [
       "{'one': [1, 2, 3], 'three': 3, 'two': 2}"
      ]
     },
     "execution_count": 6,
     "metadata": {},
     "output_type": "execute_result"
    }
   ],
   "source": [
    "a={'one':[1,2,3],'two':2,'three':3}\n",
    "a"
   ]
  },
  {
   "cell_type": "code",
   "execution_count": 2,
   "metadata": {},
   "outputs": [
    {
     "data": {
      "text/plain": [
       "{1, 2, 'a'}"
      ]
     },
     "execution_count": 2,
     "metadata": {},
     "output_type": "execute_result"
    }
   ],
   "source": [
    "b={'a',1,1,2}\n",
    "b"
   ]
  },
  {
   "cell_type": "code",
   "execution_count": 7,
   "metadata": {},
   "outputs": [
    {
     "data": {
      "text/plain": [
       "[1, 2, 3]"
      ]
     },
     "execution_count": 7,
     "metadata": {},
     "output_type": "execute_result"
    }
   ],
   "source": [
    "a['one']"
   ]
  },
  {
   "cell_type": "code",
   "execution_count": 8,
   "metadata": {},
   "outputs": [
    {
     "name": "stdout",
     "output_type": "stream",
     "text": [
      "[1, 2, 3]\n",
      "2\n"
     ]
    }
   ],
   "source": [
    "for i in ['one','two']:\n",
    "    print(a[i])"
   ]
  },
  {
   "cell_type": "code",
   "execution_count": 10,
   "metadata": {},
   "outputs": [
    {
     "data": {
      "text/plain": [
       "{'four': 4, 'one': [1, 2, 3], 'three': 3, 'two': 2}"
      ]
     },
     "execution_count": 10,
     "metadata": {},
     "output_type": "execute_result"
    }
   ],
   "source": [
    "a['four']=4\n",
    "a"
   ]
  },
  {
   "cell_type": "code",
   "execution_count": 18,
   "metadata": {},
   "outputs": [
    {
     "data": {
      "text/plain": [
       "[1, 2, 3]"
      ]
     },
     "execution_count": 18,
     "metadata": {},
     "output_type": "execute_result"
    }
   ],
   "source": [
    "a.get('one')"
   ]
  },
  {
   "cell_type": "code",
   "execution_count": 15,
   "metadata": {},
   "outputs": [
    {
     "name": "stdout",
     "output_type": "stream",
     "text": [
      "{'M': 1}\n",
      "{'a': 1, 'M': 1}\n",
      "{'a': 1, 'M': 1, 'd': 1}\n",
      "{'a': 2, 'M': 1, 'd': 1}\n",
      "{'a': 2, 'm': 1, 'M': 1, 'd': 1}\n"
     ]
    }
   ],
   "source": [
    "dictionary=dict()\n",
    "string='Madam'\n",
    "for i in string:\n",
    "    if i not in dictionary:\n",
    "        dictionary[i]=1\n",
    "    else:\n",
    "        dictionary[i]+=1\n",
    "    print(dictionary)\n"
   ]
  },
  {
   "cell_type": "code",
   "execution_count": 36,
   "metadata": {},
   "outputs": [
    {
     "name": "stdout",
     "output_type": "stream",
     "text": [
      "{'and': 3, 'among': 1, 'What': 1, 'would': 1, 'rooted': 1, 'suddenly': 1, 'had': 1, 'Cock': 2, 'soon': 1, 'down': 1, 'Pearl': 2, 'single': 1, 'Master': 1, 'something': 1, 'a': 4, 'in': 1, 'I': 1, 'You': 1, 'pearls': 1, 'hens': 1, 'out': 2, 'are': 1, 'from': 1, 'beneath': 1, 'for': 3, 'to': 2, 'rather': 1, 'espied': 1, 'treasure': 1, 'when': 1, 'been': 1, 'by': 1, 'straw': 2, 'of': 1, 'Ho': 1, 'Precious': 1, 'was': 1, 'A': 1, 'be': 2, 'them': 1, 'you,': 1, 'quoth': 2, 'than': 1, 'that': 3, 'may': 1, 'some': 1, 'men': 1, 'but': 2, 'it': 2, 'chance': 1, 'ho': 1, 'The': 1, 'peck': 1, 'farmyard': 1, 'the': 6, 'those': 1, 'he': 2, 'me': 2, 'yard': 1, 'prize': 2, 'lost': 1, 'things': 1, 'did': 1, 'amid': 1, 'up': 1, 'strutting': 1, 'turn': 1, 'can': 1, 'have': 1, 'barley-corn': 1, 'shinning': 1, 'thats': 1, 'cock': 1, 'once': 1}\n"
     ]
    }
   ],
   "source": [
    "ashop1 = open('Ashop1.txt')\n",
    "dicti=dict()\n",
    "for i in ashop1:\n",
    "    li=i.split()\n",
    "    for j in li:\n",
    "        if j not in dicti:\n",
    "            dicti[j]=1\n",
    "        else:\n",
    "            dicti[j]+=1  \n",
    "print(dicti)\n"
   ]
  },
  {
   "cell_type": "code",
   "execution_count": 37,
   "metadata": {},
   "outputs": [
    {
     "name": "stdout",
     "output_type": "stream",
     "text": [
      "The Cock and the Pearl\n",
      "\n",
      "A cock was once strutting up and down the farmyard among the\n",
      "hens when suddenly he espied something shinning amid the straw\n",
      "Ho ho quoth he thats for me and soon rooted it out from\n",
      "beneath the straw  What did it turn out to be but a Pearl that by\n",
      "some chance had been lost in the yard  You may be a treasure\n",
      "quoth Master Cock to men that prize you, but for me I would\n",
      "rather have a single barley-corn than a peck of pearls\n",
      "\n",
      "Precious things are for those that can prize them\n"
     ]
    }
   ],
   "source": [
    "ashop1 = open('Ashop1.txt')\n",
    "for i in ashop1:\n",
    "    i=i.rstrip()\n",
    "    print(i)"
   ]
  }
 ],
 "metadata": {
  "kernelspec": {
   "display_name": "Python 2",
   "language": "python",
   "name": "python2"
  },
  "language_info": {
   "codemirror_mode": {
    "name": "ipython",
    "version": 2
   },
   "file_extension": ".py",
   "mimetype": "text/x-python",
   "name": "python",
   "nbconvert_exporter": "python",
   "pygments_lexer": "ipython2",
   "version": "2.7.16"
  }
 },
 "nbformat": 4,
 "nbformat_minor": 2
}
