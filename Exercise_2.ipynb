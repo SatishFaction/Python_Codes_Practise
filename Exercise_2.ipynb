{
 "cells": [
  {
   "cell_type": "markdown",
   "metadata": {},
   "source": [
    "Write Python Program for the following (include necessary exception handling wherever required):\n",
    "\n",
    "1.\tPrompt the user for a score between 0.0 and 1.0. If the score is out of range, print an error message. If the score is between 0.0 and 1.0, print a grade using the following table:\n",
    "Score\tGrade\n",
    ">= 0.9\tA\n",
    ">= 0.8\tB\n",
    ">= 0.7\tC\n",
    ">= 0.6\tD\n",
    "< 0.6\tE\n",
    "\n",
    "\n"
   ]
  },
  {
   "cell_type": "markdown",
   "metadata": {},
   "source": [
    "2.\tIf cost price and selling price of an item is input through the keyboard, write a program to determine whether the seller has made profit or incurred loss. Also determine how much profit he made or loss he incurred."
   ]
  },
  {
   "cell_type": "code",
   "execution_count": 12,
   "metadata": {},
   "outputs": [
    {
     "name": "stdout",
     "output_type": "stream",
     "text": [
      "Enter the Cost Price of the article 400\n",
      "Enter the Selling Price of the article 350\n",
      "You have made a loss of 12 percent\n"
     ]
    }
   ],
   "source": [
    "cp=float(raw_input(\"Enter the Cost Price of the article \"))\n",
    "sp=float(raw_input(\"Enter the Selling Price of the article \"))\n",
    "profit=(sp-cp)/cp*100\n",
    "loss=(cp-sp)/cp*100\n",
    "if sp>cp:\n",
    "    print(\"You have made a profit of %d percent\"%profit)\n",
    "else:\n",
    "    print(\"You have made a loss of %d percent\"%loss)"
   ]
  },
  {
   "cell_type": "markdown",
   "metadata": {},
   "source": [
    "3.\tAny year is input through the keyboard. Write a program to determine whether the year is a leap year or not."
   ]
  },
  {
   "cell_type": "code",
   "execution_count": 8,
   "metadata": {},
   "outputs": [
    {
     "name": "stdout",
     "output_type": "stream",
     "text": [
      "Input the year to be tested 2020\n",
      "You have an extra day in the year!\n"
     ]
    }
   ],
   "source": [
    "year=R=int(raw_input(\"Input the year to be tested \"))\n",
    "if year%4==0:\n",
    "    print (\"You have an extra day in the year!\")\n",
    "else:\n",
    "    print (\"Not a leap year brother!\")"
   ]
  },
  {
   "cell_type": "markdown",
   "metadata": {},
   "source": [
    "5.\tIf the ages of Ram, Shyam and Ajay are input through the keyboard, write a program to determine the youngest of the three."
   ]
  },
  {
   "cell_type": "code",
   "execution_count": null,
   "metadata": {},
   "outputs": [],
   "source": [
    "R=int(raw_input(\"Enter the age of Ram: \"))\n",
    "S=int(raw_input(\"Enter the age of Shyam: \"))\n",
    "A=int(raw_input(\"Enter the age of Ajay: \"))\n",
    "if R<S and R<A:\n",
    "    print(\"Ram is the youngest!\")\n",
    "elif S<R and S<A:\n",
    "     print(\"Shyam is the youngest!\")\n",
    "elif A<R and A<S:\n",
    "    print(\"Ajay is the youngest!\")\n",
    "else:\n",
    "    print(\"all are of the same age!\")"
   ]
  },
  {
   "cell_type": "markdown",
   "metadata": {},
   "source": [
    "6.\tWrite a program to check whether a triangle is valid or not, when the three angles of the triangle are entered through the keyboard. A triangle is valid if the sum of all the three angles is equal to 180 degrees."
   ]
  },
  {
   "cell_type": "code",
   "execution_count": null,
   "metadata": {},
   "outputs": [],
   "source": [
    "A=int(raw_input(\"Enter the first angle of the triangle: \"))\n",
    "B=int(raw_input(\"Enter the second angle of the triangle: \"))\n",
    "C=int(raw_input(\"Enter the third angle of the triangle \"))\n",
    "if A+B+C==180:\n",
    "    print(\"Its a valid triangle\")\n",
    "else:\n",
    "    print(\"Its and invalid triangle\")"
   ]
  },
  {
   "cell_type": "markdown",
   "metadata": {},
   "source": [
    "7.\tFind the absolute value of a number entered through the keyboard."
   ]
  },
  {
   "cell_type": "code",
   "execution_count": 5,
   "metadata": {},
   "outputs": [
    {
     "name": "stdout",
     "output_type": "stream",
     "text": [
      "Enter an integer value positive or negative -800\n",
      "Mod of the number is:  800 \n"
     ]
    }
   ],
   "source": [
    "A=int(raw_input(\"Enter an integer value positive or negative \"))\n",
    "if A>0:\n",
    "    print(\"Mod of the number is:  %d \"%A)\n",
    "else:\n",
    "    print(\"Mod of the number is:  %d \"%-A)"
   ]
  },
  {
   "cell_type": "code",
   "execution_count": null,
   "metadata": {},
   "outputs": [],
   "source": []
  }
 ],
 "metadata": {
  "kernelspec": {
   "display_name": "Python 2",
   "language": "python",
   "name": "python2"
  },
  "language_info": {
   "codemirror_mode": {
    "name": "ipython",
    "version": 2
   },
   "file_extension": ".py",
   "mimetype": "text/x-python",
   "name": "python",
   "nbconvert_exporter": "python",
   "pygments_lexer": "ipython2",
   "version": "2.7.16"
  }
 },
 "nbformat": 4,
 "nbformat_minor": 2
}
