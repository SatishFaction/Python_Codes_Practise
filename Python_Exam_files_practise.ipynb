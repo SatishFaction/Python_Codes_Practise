{
 "cells": [
  {
   "cell_type": "code",
   "execution_count": 6,
   "metadata": {},
   "outputs": [
    {
     "name": "stdout",
     "output_type": "stream",
     "text": [
      "A\n",
      "B\n"
     ]
    }
   ],
   "source": [
    "st=\"A\\nB\"\n",
    "print(st)"
   ]
  },
  {
   "cell_type": "code",
   "execution_count": 7,
   "metadata": {},
   "outputs": [],
   "source": [
    "import os\n",
    "os.chdir(r'D:\\Downloads')\n",
    "f=open('mbox-short.txt')\n"
   ]
  },
  {
   "cell_type": "code",
   "execution_count": 9,
   "metadata": {},
   "outputs": [],
   "source": [
    "#for i in f:\n",
    "    #print(i)"
   ]
  },
  {
   "cell_type": "code",
   "execution_count": 15,
   "metadata": {},
   "outputs": [
    {
     "name": "stdout",
     "output_type": "stream",
     "text": [
      "From stephen.marquard@uct.ac.za Sat Jan  5 09:14:16 2008\n",
      "Return-Path: <postmaster@collab.sakaiproject.org>\n",
      "Received: from murder (mail.umich.edu [141.211.14.90])\n",
      "\t by frankenstein.mail.umich.edu (Cyrus v2.3.8) with LMTPA;\n",
      "\t Sat, 05 Jan 2008 09:14:16 -0500\n",
      "X-Sieve: CMU Sieve 2.3\n",
      "Received: from murder ([unix socket])\n",
      "\t by mail.umich.edu (Cyrus v2.2.12) with LMTPA;\n",
      "\t Sat, 05 Jan 2008 09:14:16 -0500\n",
      "Received: from holes.mr.itd.umich.edu (holes.mr.itd.umich.edu [141.211.14.79])\n"
     ]
    }
   ],
   "source": [
    "f=open('mbox-short.txt')\n",
    "count=0\n",
    "for i in f:\n",
    "    print(i.rstrip())\n",
    "    count+=1\n",
    "    if count==10:\n",
    "        break"
   ]
  },
  {
   "cell_type": "code",
   "execution_count": 18,
   "metadata": {},
   "outputs": [
    {
     "name": "stdout",
     "output_type": "stream",
     "text": [
      "for <source@collab.sakaiproject.org>; Sat, 5 Jan 2008 09:12:19 -0500\n",
      "Received: (from apache@localhost)\n",
      "by nakamura.uits.iupui.edu (8.12.11.20060308/8.12.11/Submit) id m05ECIaH010327\n",
      "for source@collab.sakaiproject.org; Sat, 5 Jan 2008 09:12:18 -0500\n",
      "Date: Sat, 5 Jan 2008 09:12:18 -0500\n",
      "X-Authentication-Warning: nakamura.uits.iupui.edu: apache set sender to stephen.marquard@uct.ac.za using -f\n",
      "To: source@collab.sakaiproject.org\n",
      "From: stephen.marquard@uct.ac.za\n",
      "Subject: [sakai] svn commit: r39772 - content/branches/sakai_2-5-x/content-impl/impl/src/java/org/sakaiproject/content/impl\n",
      "X-Content-Type-Outer-Envelope: text/plain; charset=UTF-8\n"
     ]
    }
   ],
   "source": [
    "f=open('mbox-short.txt')\n",
    "count=0\n",
    "for l in f:\n",
    "    count+=1\n",
    "    if count<=30:\n",
    "        continue\n",
    "    else:\n",
    "        l=l.strip()\n",
    "        print(l)\n",
    "        if count==40:\n",
    "            break\n",
    "    \n",
    "    "
   ]
  },
  {
   "cell_type": "code",
   "execution_count": 19,
   "metadata": {},
   "outputs": [
    {
     "name": "stdout",
     "output_type": "stream",
     "text": [
      "1910\n"
     ]
    }
   ],
   "source": [
    "#total number of lines in the file\n",
    "f=open('mbox-short.txt')\n",
    "count=0\n",
    "for i in f:\n",
    "    count+=1\n",
    "print(count)"
   ]
  },
  {
   "cell_type": "code",
   "execution_count": 39,
   "metadata": {},
   "outputs": [
    {
     "name": "stdout",
     "output_type": "stream",
     "text": [
      "stephen.marquard@uct.ac.za\n",
      "louis@media.berkeley.edu\n",
      "zqian@umich.edu\n",
      "rjlowe@iupui.edu\n",
      "zqian@umich.edu\n",
      "rjlowe@iupui.edu\n",
      "cwen@iupui.edu\n",
      "cwen@iupui.edu\n",
      "gsilver@umich.edu\n",
      "gsilver@umich.edu\n",
      "zqian@umich.edu\n",
      "gsilver@umich.edu\n",
      "wagnermr@iupui.edu\n",
      "zqian@umich.edu\n",
      "antranig@caret.cam.ac.uk\n",
      "gopal.ramasammycook@gmail.com\n",
      "david.horwitz@uct.ac.za\n",
      "david.horwitz@uct.ac.za\n",
      "david.horwitz@uct.ac.za\n",
      "david.horwitz@uct.ac.za\n",
      "stephen.marquard@uct.ac.za\n",
      "louis@media.berkeley.edu\n",
      "louis@media.berkeley.edu\n",
      "ray@media.berkeley.edu\n",
      "cwen@iupui.edu\n",
      "cwen@iupui.edu\n",
      "cwen@iupui.edu\n"
     ]
    }
   ],
   "source": [
    "f=open('mbox-short.txt')\n",
    "for i in f:\n",
    "    if i.startswith(\"From:\"):\n",
    "        i=i.rstrip()\n",
    "        #print(i)\n",
    "        print(i[i.find(' ')+1:])"
   ]
  },
  {
   "cell_type": "code",
   "execution_count": 40,
   "metadata": {},
   "outputs": [
    {
     "name": "stdout",
     "output_type": "stream",
     "text": [
      "From stephen.marquard@uct.ac.za Sat Jan  5 09:14:16 2008\n",
      "\n",
      "X-Authentication-Warning: nakamura.uits.iupui.edu: apache set sender to stephen.marquard@uct.ac.za using -f\n",
      "\n",
      "From: stephen.marquard@uct.ac.za\n",
      "\n",
      "Author: stephen.marquard@uct.ac.za\n",
      "\n",
      "From david.horwitz@uct.ac.za Fri Jan  4 07:02:32 2008\n",
      "\n",
      "X-Authentication-Warning: nakamura.uits.iupui.edu: apache set sender to david.horwitz@uct.ac.za using -f\n",
      "\n",
      "From: david.horwitz@uct.ac.za\n",
      "\n",
      "Author: david.horwitz@uct.ac.za\n",
      "\n",
      "r39753 | david.horwitz@uct.ac.za | 2008-01-04 13:05:51 +0200 (Fri, 04 Jan 2008) | 1 line\n",
      "\n",
      "From david.horwitz@uct.ac.za Fri Jan  4 06:08:27 2008\n",
      "\n",
      "X-Authentication-Warning: nakamura.uits.iupui.edu: apache set sender to david.horwitz@uct.ac.za using -f\n",
      "\n",
      "From: david.horwitz@uct.ac.za\n",
      "\n",
      "Author: david.horwitz@uct.ac.za\n",
      "\n",
      "From david.horwitz@uct.ac.za Fri Jan  4 04:49:08 2008\n",
      "\n",
      "X-Authentication-Warning: nakamura.uits.iupui.edu: apache set sender to david.horwitz@uct.ac.za using -f\n",
      "\n",
      "From: david.horwitz@uct.ac.za\n",
      "\n",
      "Author: david.horwitz@uct.ac.za\n",
      "\n",
      "From david.horwitz@uct.ac.za Fri Jan  4 04:33:44 2008\n",
      "\n",
      "X-Authentication-Warning: nakamura.uits.iupui.edu: apache set sender to david.horwitz@uct.ac.za using -f\n",
      "\n",
      "From: david.horwitz@uct.ac.za\n",
      "\n",
      "Author: david.horwitz@uct.ac.za\n",
      "\n",
      "From stephen.marquard@uct.ac.za Fri Jan  4 04:07:34 2008\n",
      "\n",
      "X-Authentication-Warning: nakamura.uits.iupui.edu: apache set sender to stephen.marquard@uct.ac.za using -f\n",
      "\n",
      "From: stephen.marquard@uct.ac.za\n",
      "\n",
      "Author: stephen.marquard@uct.ac.za\n",
      "\n"
     ]
    }
   ],
   "source": [
    "#c) Extract lines which contain the string “@uct.ac.za” (i.e., they come from the University of Cape Town in South Africa):\n",
    "f=open('mbox-short.txt')\n",
    "for i in f:\n",
    "    if '@uct.ac.za' in i:\n",
    "        print(i)\n",
    "        \n",
    "        "
   ]
  }
 ],
 "metadata": {
  "kernelspec": {
   "display_name": "Python 2",
   "language": "python",
   "name": "python2"
  },
  "language_info": {
   "codemirror_mode": {
    "name": "ipython",
    "version": 2
   },
   "file_extension": ".py",
   "mimetype": "text/x-python",
   "name": "python",
   "nbconvert_exporter": "python",
   "pygments_lexer": "ipython2",
   "version": "2.7.16"
  }
 },
 "nbformat": 4,
 "nbformat_minor": 2
}
