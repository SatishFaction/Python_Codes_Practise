{
 "cells": [
  {
   "cell_type": "code",
   "execution_count": null,
   "metadata": {},
   "outputs": [],
   "source": [
    "#Creating a basic window with label using tkinter\n",
    "from tkinter import *\n",
    "root=Tk()#basic window\n",
    "theLabel= Label(root, text=\"first window\")#we add a label to the window\n",
    "theLabel.pack()#pack the label in the window\n",
    "root.mainloop()#display it for a long time"
   ]
  },
  {
   "cell_type": "code",
   "execution_count": null,
   "metadata": {},
   "outputs": [],
   "source": [
    "from tkinter import *\n",
    "root=Tk()\n",
    "topFrame= Frame(root)\n",
    "topFrame.pack()\n",
    "bottomFrame= Frame(root)\n",
    "bottomFrame.pack(side=BOTTOM)\n",
    "b1= Button(topFrame,text=\"Start\",fg=\"red\")\n",
    "b2= Button(bottomFrame,text=\"Exit\",fg=\"blue\")\n",
    "b1.pack(side=LEFT)\n",
    "b2.pack(side=BOTTOM)\n",
    "root.mainloop()"
   ]
  }
 ],
 "metadata": {
  "kernelspec": {
   "display_name": "Python 2",
   "language": "python",
   "name": "python2"
  },
  "language_info": {
   "codemirror_mode": {
    "name": "ipython",
    "version": 2
   },
   "file_extension": ".py",
   "mimetype": "text/x-python",
   "name": "python",
   "nbconvert_exporter": "python",
   "pygments_lexer": "ipython2",
   "version": "2.7.16"
  }
 },
 "nbformat": 4,
 "nbformat_minor": 2
}
