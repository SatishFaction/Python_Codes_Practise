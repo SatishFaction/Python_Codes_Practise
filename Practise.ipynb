{
 "cells": [
  {
   "cell_type": "code",
   "execution_count": 8,
   "metadata": {},
   "outputs": [
    {
     "name": "stdout",
     "output_type": "stream",
     "text": [
      "Satish is great\n"
     ]
    }
   ],
   "source": [
    "#Testing the print statement\n",
    "x=\"great\"\n",
    "print \"Satish is \" + x"
   ]
  },
  {
   "cell_type": "code",
   "execution_count": 4,
   "metadata": {},
   "outputs": [
    {
     "name": "stdout",
     "output_type": "stream",
     "text": [
      "Satish\n",
      "4\n",
      "Hello\n"
     ]
    }
   ],
   "source": [
    "#Variable assignment\n",
    "a,b,c=\"Satish\",4,\"Hello\"\n",
    "print a\n",
    "print b\n",
    "print c"
   ]
  },
  {
   "cell_type": "code",
   "execution_count": 11,
   "metadata": {},
   "outputs": [
    {
     "name": "stdout",
     "output_type": "stream",
     "text": [
      "5\n",
      "4\n"
     ]
    }
   ],
   "source": [
    "#Global Variable \n",
    "x=4\n",
    "def fun():\n",
    "    x=5\n",
    "    print x\n",
    "fun()\n",
    "print x"
   ]
  },
  {
   "cell_type": "code",
   "execution_count": 21,
   "metadata": {},
   "outputs": [
    {
     "name": "stdout",
     "output_type": "stream",
     "text": [
      "<type 'int'>\n",
      "<type 'str'>\n",
      "50.0\n",
      "2\n"
     ]
    }
   ],
   "source": [
    "#Data Types\n",
    "x=50\n",
    "y=\"satis\"\n",
    "print type(x)\n",
    "print type(y)\n",
    "z=float(x)\n",
    "print z\n",
    "#Random Numbers\n",
    "import random \n",
    "print random.randrange(1,10)"
   ]
  },
  {
   "cell_type": "code",
   "execution_count": 42,
   "metadata": {},
   "outputs": [
    {
     "name": "stdout",
     "output_type": "stream",
     "text": [
      "Pepetr\n",
      "19\n",
      "habitual pepetrstor\n",
      "HABITUAL PEPETRSTOR\n",
      "Hbbitubl Pepetrstor\n"
     ]
    }
   ],
   "source": [
    "#string operations\n",
    "a=\"Habitual Pepetrstor\"\n",
    "print a[9:15]\n",
    "#string methods\n",
    "print len(a)\n",
    "print a.lower()\n",
    "print a.upper()\n",
    "print a.replace(\"a\",\"b\")\n",
    "#The split method\n",
    "y=\"happy,birthday\"\n",
    "\n"
   ]
  },
  {
   "cell_type": "code",
   "execution_count": 41,
   "metadata": {},
   "outputs": [
    {
     "name": "stdout",
     "output_type": "stream",
     "text": [
      "False\n"
     ]
    }
   ],
   "source": [
    "a=\"what the\"\n",
    "y=\"satish\" in a\n",
    "print y"
   ]
  },
  {
   "cell_type": "code",
   "execution_count": 47,
   "metadata": {},
   "outputs": [
    {
     "name": "stdout",
     "output_type": "stream",
     "text": [
      "False\n",
      "False\n"
     ]
    }
   ],
   "source": [
    "#bool data type\n",
    "print 10<9\n",
    "print bool(\"\")"
   ]
  },
  {
   "cell_type": "code",
   "execution_count": 2,
   "metadata": {},
   "outputs": [
    {
     "name": "stdout",
     "output_type": "stream",
     "text": [
      "['my', 'name', 'is', 'satish']\n",
      "name\n",
      "['first', 'second', 'third']\n"
     ]
    }
   ],
   "source": [
    "#Collections 1. Lists-ordered and changeable and allows duplicates\n",
    "first_list=[\"my\",\"name\",\"is\",\"satish\"]\n",
    "print first_list[0:4]#accessing individual items\n",
    "print first_list[-3]#negative indexes\n",
    "#changing values in a list\n",
    "Second_list=[\"first\",\"second\",\"third\"]\n",
    "#Second_list[0]=\"1st\"\n",
    "print Second_list"
   ]
  },
  {
   "cell_type": "code",
   "execution_count": 9,
   "metadata": {},
   "outputs": [
    {
     "name": "stdout",
     "output_type": "stream",
     "text": [
      "3\n",
      "I\n",
      "am\n",
      "ok\n"
     ]
    }
   ],
   "source": [
    "#list methods and operations\n",
    "list1=[\"I\",\"am\",\"ok\"]\n",
    "print len(list1)\n",
    "list1.append(\"with\")\n",
    "list1.insert(0,\"dude\")\n",
    "list1.remove(\"with\")\n",
    "list1.pop(0)\n",
    "for x in list1:\n",
    "    print x"
   ]
  },
  {
   "cell_type": "code",
   "execution_count": 8,
   "metadata": {},
   "outputs": [
    {
     "name": "stdout",
     "output_type": "stream",
     "text": [
      "['Satish', 'Kumar', 'My', 'Man']\n",
      "4\n",
      "Satish\n",
      "Kumar\n",
      "My\n",
      "Man\n",
      "Man\n"
     ]
    }
   ],
   "source": [
    "#Tuples--Once Tuple is created you cannot change it\n",
    "Tuple1=(\"Satish\",\"Kumar\",\"My\",\"Man\")\n",
    "List_convert=list(Tuple1)\n",
    "print List_convert\n",
    "print len(List_convert)\n",
    "for x in Tuple1:\n",
    "    print x\n",
    "print Tuple1[-1]"
   ]
  },
  {
   "cell_type": "code",
   "execution_count": 11,
   "metadata": {},
   "outputs": [
    {
     "name": "stdout",
     "output_type": "stream",
     "text": [
      "('Satish', 'Kumar', 'Hero', 'Hai')\n"
     ]
    }
   ],
   "source": [
    "T1=(\"Satish\",\"Kumar\")\n",
    "T2=(\"Hero\",\"Hai\")\n",
    "T3=T1+T2\n",
    "print T3\n"
   ]
  },
  {
   "cell_type": "code",
   "execution_count": 18,
   "metadata": {},
   "outputs": [
    {
     "name": "stdout",
     "output_type": "stream",
     "text": [
      "a\n",
      "Kumar\n",
      "satish\n",
      "b\n",
      "4\n",
      "5\n",
      "Admi\n",
      "set(['a', 'Kumar', 'satish', 'b', 4, 5, 3, 1, 2, 'Admi'])\n"
     ]
    }
   ],
   "source": [
    "#Sets\n",
    "S1={\"a\",\"b\",4,5}\n",
    "S1.add(\"satish\")\n",
    "S1.update([\"Kumar\",\"Mast\",\"Admi\"])\n",
    "S1.remove(\"Mast\")\n",
    "for x in S1:\n",
    "    print x\n",
    "S2={1,2,3}\n",
    "S3=S1.union(S2)\n",
    "print S3\n"
   ]
  },
  {
   "cell_type": "code",
   "execution_count": 29,
   "metadata": {},
   "outputs": [
    {
     "name": "stdout",
     "output_type": "stream",
     "text": [
      "Data Guy\n",
      "Satish\n",
      "Satish\n"
     ]
    }
   ],
   "source": [
    "#Dictionaries\n",
    "dict1={\"Name\":\"Satish\",\"Desig\":\"Data Guy\"}\n",
    "for x in dict1:\n",
    "    print dict1[x]\n",
    "x=dict1.get(\"Name\",\"Desig\")\n",
    "print x"
   ]
  },
  {
   "cell_type": "code",
   "execution_count": 6,
   "metadata": {},
   "outputs": [
    {
     "name": "stdout",
     "output_type": "stream",
     "text": [
      "27\n",
      "2261\n",
      "Satish\n",
      "3\n",
      "name is there\n",
      "Age\n",
      "Employee_ID\n",
      "Name\n",
      "555\n",
      "Manish\n"
     ]
    }
   ],
   "source": [
    "#using for loop to list labels\n",
    "dict2={\"Name\":\"Satish\",\"Employee_ID\":2261}\n",
    "dict2[\"Age\"]=27\n",
    "for x in dict2.values():\n",
    "    print x \n",
    "print len(dict2)\n",
    "if \"Name\" in dict2:\n",
    "    print (\"name is there\")\n",
    "else:\n",
    "    print (\"name not there\")\n",
    "for x in dict2:\n",
    "    print x\n",
    "#getting the values\n",
    "dict3={\"Name\":\"Manish\",\"EMP_ID\":555}\n",
    "for x in dict3.values():\n",
    "    print x"
   ]
  },
  {
   "cell_type": "code",
   "execution_count": 3,
   "metadata": {},
   "outputs": [
    {
     "name": "stdout",
     "output_type": "stream",
     "text": [
      "Delloitte\n",
      "Apurba\n"
     ]
    }
   ],
   "source": [
    "#Display values of labels\n",
    "dict3={\"Name\":\"Apurba\",\n",
    "       \"Company\":\"Delloitte\"}\n",
    "for x in dict3:\n",
    "    print dict3[x]"
   ]
  },
  {
   "cell_type": "code",
   "execution_count": 4,
   "metadata": {},
   "outputs": [
    {
     "name": "stdout",
     "output_type": "stream",
     "text": [
      "('lastname', 'Schimick')\n",
      "('firstname', 'Jorden')\n"
     ]
    }
   ],
   "source": [
    "#Why does the dict values appear in the wrong order\n",
    "#It is because of the way dicts are organized internally.In short, this works via a hash-table which puts the keys into buckets according to their hash() value.\n",
    "dict4={\"firstname\":\"Jorden\",\"lastname\":\"Schimick\"}\n",
    "for x,y in dict4.items():\n",
    "    print(x,y)"
   ]
  },
  {
   "cell_type": "code",
   "execution_count": 17,
   "metadata": {},
   "outputs": [
    {
     "name": "stdout",
     "output_type": "stream",
     "text": [
      "6\n",
      "12\n",
      "18\n",
      "24\n",
      "30\n",
      "36\n",
      "42\n",
      "48\n",
      "54\n",
      "60\n"
     ]
    }
   ],
   "source": [
    "#While Loop\n",
    "i=1\n",
    "j=6\n",
    "while i<=10:\n",
    "    print i*j\n",
    "    i+=1\n",
    "    "
   ]
  },
  {
   "cell_type": "code",
   "execution_count": 14,
   "metadata": {},
   "outputs": [
    {
     "name": "stdout",
     "output_type": "stream",
     "text": [
      "1\n",
      "2\n",
      "4\n",
      "5\n",
      "6\n"
     ]
    }
   ],
   "source": [
    "i = 0\n",
    "while i < 6:\n",
    "  i += 1\n",
    "  if i == 3:\n",
    "    continue\n",
    "  print(i)"
   ]
  },
  {
   "cell_type": "code",
   "execution_count": 24,
   "metadata": {},
   "outputs": [
    {
     "name": "stdout",
     "output_type": "stream",
     "text": [
      "a\n",
      "b\n",
      "c\n"
     ]
    }
   ],
   "source": [
    "#for loop with break statement\n",
    "alphabets=[\"a\",\"b\",\"c\",\"d\"]\n",
    "for x in alphabets:\n",
    "    print x\n",
    "    if x==\"c\":\n",
    "        break\n",
    "    \n",
    "    "
   ]
  },
  {
   "cell_type": "code",
   "execution_count": 28,
   "metadata": {},
   "outputs": [
    {
     "name": "stdout",
     "output_type": "stream",
     "text": [
      "q\n",
      "w\n"
     ]
    }
   ],
   "source": [
    "#for loop with continue statement\n",
    "alpha=[\"q\",\"w\",\"e\"]\n",
    "for x in alpha:\n",
    "    if x==\"e\":\n",
    "        continue\n",
    "    print x"
   ]
  },
  {
   "cell_type": "code",
   "execution_count": 33,
   "metadata": {},
   "outputs": [
    {
     "name": "stdout",
     "output_type": "stream",
     "text": [
      "2\n",
      "3\n",
      "4\n",
      "5\n",
      "6\n"
     ]
    }
   ],
   "source": [
    "#Range Function\n",
    "#for x in range(7):\n",
    "    #print x\n",
    "for x in range(2,7):\n",
    "    print x"
   ]
  },
  {
   "cell_type": "code",
   "execution_count": 34,
   "metadata": {},
   "outputs": [
    {
     "name": "stdout",
     "output_type": "stream",
     "text": [
      "1\n",
      "5\n",
      "9\n",
      "13\n",
      "17\n",
      "21\n",
      "25\n",
      "29\n",
      "33\n",
      "37\n",
      "41\n",
      "45\n",
      "49\n"
     ]
    }
   ],
   "source": [
    "for x in range(1,50,4):\n",
    "    print x"
   ]
  },
  {
   "cell_type": "code",
   "execution_count": 36,
   "metadata": {},
   "outputs": [
    {
     "name": "stdout",
     "output_type": "stream",
     "text": [
      "4\n",
      "5\n",
      "8\n",
      "10\n",
      "12\n",
      "15\n"
     ]
    }
   ],
   "source": [
    "a1=[1,2,3]\n",
    "a2=[4,5]\n",
    "for x in a1:\n",
    "    for y in a2:\n",
    "        print x*y"
   ]
  },
  {
   "cell_type": "code",
   "execution_count": 41,
   "metadata": {},
   "outputs": [
    {
     "name": "stdout",
     "output_type": "stream",
     "text": [
      "first function\n"
     ]
    }
   ],
   "source": [
    "#Functions \n",
    "def first_function():\n",
    "    print \"first function\"\n",
    "\n",
    "first_function()"
   ]
  },
  {
   "cell_type": "code",
   "execution_count": 45,
   "metadata": {},
   "outputs": [
    {
     "name": "stdout",
     "output_type": "stream",
     "text": [
      "Satish kumar\n"
     ]
    }
   ],
   "source": [
    "#functions with argument\n",
    "def fun_argu(fname):\n",
    "    print fname+\" kumar\"\n",
    "\n",
    "fun_argu(\"Satish\")"
   ]
  },
  {
   "cell_type": "code",
   "execution_count": 48,
   "metadata": {},
   "outputs": [
    {
     "name": "stdout",
     "output_type": "stream",
     "text": [
      "Satish Kumar\n"
     ]
    }
   ],
   "source": [
    "def twoargs(fname,lastname):\n",
    "    print fname +\" \"+ lastname\n",
    "twoargs(\"Satish\",\"Kumar\")"
   ]
  },
  {
   "cell_type": "code",
   "execution_count": 50,
   "metadata": {},
   "outputs": [
    {
     "name": "stdout",
     "output_type": "stream",
     "text": [
      "4\n"
     ]
    }
   ],
   "source": [
    "def fun(number,num1):\n",
    "    print number *num1 \n",
    "fun(2,2)"
   ]
  },
  {
   "cell_type": "code",
   "execution_count": 52,
   "metadata": {},
   "outputs": [
    {
     "name": "stdout",
     "output_type": "stream",
     "text": [
      "6\n"
     ]
    }
   ],
   "source": [
    "def fun1(*number):\n",
    "    print number[0]*number[1]\n",
    "\n",
    "fun1(2,3)"
   ]
  },
  {
   "cell_type": "code",
   "execution_count": 53,
   "metadata": {},
   "outputs": [
    {
     "name": "stdout",
     "output_type": "stream",
     "text": [
      "I am from Sweden\n",
      "I am from India\n",
      "I am from Norway\n",
      "I am from Brazil\n"
     ]
    }
   ],
   "source": [
    "def my_function(country = \"Norway\"):\n",
    "  print(\"I am from \" + country)\n",
    "\n",
    "my_function(\"Sweden\")\n",
    "my_function(\"India\")\n",
    "my_function()\n",
    "my_function(\"Brazil\")"
   ]
  },
  {
   "cell_type": "code",
   "execution_count": 56,
   "metadata": {},
   "outputs": [
    {
     "name": "stdout",
     "output_type": "stream",
     "text": [
      "1\n",
      "2\n",
      "3\n"
     ]
    }
   ],
   "source": [
    "lis=[1,2,3]\n",
    "def fu(lu):\n",
    "    for x in lu:\n",
    "        print x\n",
    "fu(lis)"
   ]
  }
 ],
 "metadata": {
  "kernelspec": {
   "display_name": "Python 2",
   "language": "python",
   "name": "python2"
  },
  "language_info": {
   "codemirror_mode": {
    "name": "ipython",
    "version": 2
   },
   "file_extension": ".py",
   "mimetype": "text/x-python",
   "name": "python",
   "nbconvert_exporter": "python",
   "pygments_lexer": "ipython2",
   "version": "2.7.16"
  }
 },
 "nbformat": 4,
 "nbformat_minor": 2
}
