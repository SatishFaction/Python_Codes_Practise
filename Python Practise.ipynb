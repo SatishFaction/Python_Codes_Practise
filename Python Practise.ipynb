{
 "cells": [
  {
   "cell_type": "code",
   "execution_count": 3,
   "metadata": {},
   "outputs": [
    {
     "name": "stdout",
     "output_type": "stream",
     "text": [
      "2020-02-02\n"
     ]
    }
   ],
   "source": [
    "#getting current date\n",
    "from datetime import date\n",
    "x=date.today()\n",
    "print x"
   ]
  },
  {
   "cell_type": "code",
   "execution_count": 5,
   "metadata": {},
   "outputs": [
    {
     "name": "stdout",
     "output_type": "stream",
     "text": [
      "2020-02-02 15:59:29.467000\n"
     ]
    }
   ],
   "source": [
    "#getting current time\n",
    "from datetime import datetime \n",
    "y=datetime.now()\n",
    "print y"
   ]
  },
  {
   "cell_type": "code",
   "execution_count": 14,
   "metadata": {},
   "outputs": [
    {
     "name": "stdout",
     "output_type": "stream",
     "text": [
      "Enter first Name: Satish\n",
      "Enter Last Name: Kumar\n",
      "Satish Kumar\n"
     ]
    }
   ],
   "source": [
    "#taking input\n",
    "x = raw_input(\"Enter first Name: \")\n",
    "y = raw_input(\"Enter Last Name: \")\n",
    "print x + \" \"+ y"
   ]
  }
 ],
 "metadata": {
  "kernelspec": {
   "display_name": "Python 2",
   "language": "python",
   "name": "python2"
  },
  "language_info": {
   "codemirror_mode": {
    "name": "ipython",
    "version": 2
   },
   "file_extension": ".py",
   "mimetype": "text/x-python",
   "name": "python",
   "nbconvert_exporter": "python",
   "pygments_lexer": "ipython2",
   "version": "2.7.16"
  }
 },
 "nbformat": 4,
 "nbformat_minor": 2
}
